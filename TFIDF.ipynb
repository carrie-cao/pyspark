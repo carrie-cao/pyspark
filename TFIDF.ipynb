{
 "cells": [
  {
   "cell_type": "code",
   "execution_count": null,
   "metadata": {},
   "outputs": [],
   "source": [
    "import os\n",
    "os.environ[\"JAVA_HOME\"] = \"D:\\jdk\"\n",
    "os.environ[\"SPARK_HOME\"] = \"D:\\spark\"\n",
    "import findspark\n",
    "findspark.init()\n",
    "from pyspark import SparkConf, SparkContext\n",
    "from pyspark.mllib.feature import HashingTF\n",
    "from pyspark.mllib.feature import IDF\n",
    "sparkcon = SparkContext.getOrCreate()"
   ]
  },
  {
   "cell_type": "code",
   "execution_count": null,
   "metadata": {},
   "outputs": [],
   "source": [
    "# Data loading\n",
    "dfRaw = sparkcon.textFile(\"small.tsv\")\n",
    "fields = dfRaw.map(lambda x: x.split(\"\\t\"))\n",
    "dfs = fields.map(lambda x: x[3].split(\" \"))\n",
    "dfID = fields.map(lambda x: x[1])\n",
    "\n",
    "# words frequencies:\n",
    "hashingTF = HashingTF(100000)  #100K hash buckets\n",
    "tf = hashingTF.transform(dfs)\n",
    "\n",
    "# compute the TF*IDF in each document:\n",
    "tf.cache()\n",
    "idf = IDF(minDocFreq=2).fit(tf)\n",
    "tfidf = idf.transform(tf)"
   ]
  },
  {
   "cell_type": "code",
   "execution_count": 7,
   "metadata": {},
   "outputs": [
    {
     "name": "stdout",
     "output_type": "stream",
     "text": [
      "maximum TF*IDF value for Gettysburg is:\n",
      "(0.0, 'Ælle of Sussex')\n"
     ]
    }
   ],
   "source": [
    "#example: search for \"Gettysburg\":\n",
    "\n",
    "gettysburgTF = hashingTF.transform([\"Gettysburg\"])\n",
    "gettysburgHashValue = int(gettysburgTF.indices[0])\n",
    "\n",
    "# extract the TF*IDF sparkconore \n",
    "gettysburgRelevance = tfidf.map(lambda x: x[gettysburgHashValue])\n",
    "\n",
    "zippedResults = gettysburgRelevance.zip(dfID)\n",
    "\n",
    "# print the document with the maximum TF*IDF value:\n",
    "print(\"maximum TF*IDF value for Gettysburg is:\")\n",
    "print(zippedResults.max())"
   ]
  }
 ],
 "metadata": {
  "kernelspec": {
   "display_name": "Python 3",
   "language": "python",
   "name": "python3"
  },
  "language_info": {
   "codemirror_mode": {
    "name": "ipython",
    "version": 3
   },
   "file_extension": ".py",
   "mimetype": "text/x-python",
   "name": "python",
   "nbconvert_exporter": "python",
   "pygments_lexer": "ipython3",
   "version": "3.7.7"
  }
 },
 "nbformat": 4,
 "nbformat_minor": 4
}
